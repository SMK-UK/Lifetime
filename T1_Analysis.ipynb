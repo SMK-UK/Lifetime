{
 "cells": [
  {
   "cell_type": "code",
   "execution_count": null,
   "metadata": {},
   "outputs": [],
   "source": [
    "import data_functions as dat\n",
    "import filter_functions as fil\n",
    "import fitting_functions as fit\n",
    "import math_functions as mat\n",
    "import plotting_functions as plt\n",
    "\n",
    "import os"
   ]
  },
  {
   "cell_type": "code",
   "execution_count": null,
   "metadata": {},
   "outputs": [],
   "source": [
    "# path to folders containing T1 data\n",
    "path = r\"C:\\Users\\Keena\\Desktop\\test_T1\"\n",
    "# extensions to look for in the folders\n",
    "exts = ('.csv', '.txt')\n",
    "# populate folder and file lists\n",
    "folder_list, file_list = dat.dir_interogate(path, extensions=exts)\n",
    "# create dictionary for indexing folders and files\n",
    "folder_index = dat.make_index_dict(folder_list)\n",
    "file_index = [dat.make_index_dict(file_sub_list) for file_sub_list in file_list]\n",
    "# lists of the data paths and metadata (text) paths\n",
    "data_path_list = dat.search_paths(folder_list, file_list, [exts[0]])\n",
    "metadata_path_list = dat.search_paths(folder_list, file_list, [exts[1]])\n",
    "# extract the relevant data from the files\n",
    "excel_sets = [[dat.open_excel(os.path.join(path, data_path)) for data_path in data_paths] for data_paths in data_path_list]\n",
    "metadata = [[dat.open_text(os.path.join(path, data_path)) for data_path in data_paths] for data_paths in metadata_path_list]\n",
    "# populate dictionary for extracting from the metadata\n",
    "#test = dat.create_dict(os.path.join(path, metadata_path_list[0][0]), delimiter='=')"
   ]
  },
  {
   "cell_type": "code",
   "execution_count": null,
   "metadata": {},
   "outputs": [],
   "source": [
    "# import dictionaries used to index data\n",
    "i, tp_i = dat.read_json('index_dict.json')"
   ]
  },
  {
   "cell_type": "code",
   "execution_count": null,
   "metadata": {},
   "outputs": [],
   "source": [
    "# plot channel data to check assignment\n",
    "plt.plot_scope(excel_sets[0][0][:,i['time']], [excel_sets[0][0][:,i['trig']], excel_sets[0][0][:,i['trans']], excel_sets[0][0][:,i['ref']]], multi=True)"
   ]
  },
  {
   "cell_type": "code",
   "execution_count": null,
   "metadata": {},
   "outputs": [],
   "source": [
    "trig_indexes = [[fit.find_trigger(trig_data[:,i['trig']], modifier=0.989) for trig_data in excel_data] for excel_data in excel_sets]\n",
    "tp_i['ramp'] = 15000 + trig_indexes[0][0]\n",
    "# pick an offset\n",
    "tp_i['r_off'] = 500\n",
    "tp_i['off'] = 1000"
   ]
  },
  {
   "cell_type": "code",
   "execution_count": null,
   "metadata": {},
   "outputs": [],
   "source": [
    "# plot transmitted and reference data to check the trigger index\n",
    "plt.plot_T1_trigger(excel_sets[0][0][:,i['time']]*1e6, [excel_sets[0][0][:,i['trans']], excel_sets[0][0][:,i['ref']]], tp_i)"
   ]
  },
  {
   "cell_type": "code",
   "execution_count": null,
   "metadata": {},
   "outputs": [],
   "source": [
    "# take a guess at the lifetimes\n",
    "guess_ref_T1 = 1E-6\n",
    "guess_T1 = 10E-6\n",
    "# find start and stop indexes for the data (saves trying to fit to unnecesary data)\n",
    "ref_stop_set = [[round(guess_ref_T1*4/(time[:,i['time']][1] - time[:,i['time']][0])) for time in time_lists] for time_lists in excel_sets]\n",
    "stop_set = [[round(guess_T1*4 /(time[:,i['time']][1] - time[:,i['time']][0])) for time in time_lists] for time_lists in excel_sets]\n",
    "start_set = [[value + tp_i['off'] for value in trig_index] for trig_index in trig_indexes]\n",
    "ref_start_set = [[value + tp_i['r_off'] for value in trig_index] for trig_index in trig_indexes]\n",
    "# create new arrays of cut data using start and stop indexes found\n",
    "time_sets = [[data[:,i['time']][start:start+stop] for data, start, stop in zip(data_list, start_list, stop_lists)] for data_list, start_list, stop_lists in zip(excel_sets, start_set, stop_set)]\n",
    "ref_time_sets = [[data[:,i['time']][start:start+stop] for data, start, stop in zip(data_list, start_list, stop_lists)] for data_list, start_list, stop_lists in zip(excel_sets, ref_start_set, ref_stop_set)]\n",
    "trig_sets = [[data[:,i['trig']][start:start+stop] for data, start, stop in zip(data_list, start_list, stop_lists)] for data_list, start_list, stop_lists in zip(excel_sets, start_set, stop_set)]\n",
    "trans_sets = [[data[:,i['trans']][start:start+stop] for data, start, stop in zip(data_list, start_list, stop_lists)] for data_list, start_list, stop_lists in zip(excel_sets, start_set, stop_set)]\n",
    "ref_sets = [[data[:,i['ref']][start:start+stop] for data, start, stop in zip(data_list, start_list, stop_lists)] for data_list, start_list, stop_lists in zip(excel_sets, ref_start_set, ref_stop_set)]\n",
    "# found initial start params for the fitting functions (minimum and maximum)\n",
    "list_of_mins = [[min(trans) for trans in trans_lists] for trans_lists in trans_sets]\n",
    "list_of_maxs = [[max(trans) for trans in trans_lists] for trans_lists in trans_sets]\n",
    "ref_min_list = [[min(refs) for refs in ref_lists] for ref_lists in ref_sets]\n",
    "ref_max_list = [[max(refs) for refs in ref_lists] for ref_lists in ref_sets]"
   ]
  },
  {
   "cell_type": "code",
   "execution_count": null,
   "metadata": {},
   "outputs": [],
   "source": [
    "# zip the fit data for the reference signal\n",
    "ref_zip = zip(ref_time_sets, ref_sets, ref_max_list, ref_min_list)\n",
    "# fit to the reference data\n",
    "ref_fit_sets = [[fit.fit_exp_decay(time, ref, params=(max_value, guess_ref_T1, min_value)) for time, ref, max_value, min_value in zip(time_set, ref_set, max_set, min_set)] for time_set, ref_set, max_set, min_set in ref_zip]\n",
    "# average the fit data for each experiment\n",
    "ref_fit_avg = [mat.average_arrays(ref_list) for ref_list in ref_fit_sets]"
   ]
  },
  {
   "cell_type": "code",
   "execution_count": null,
   "metadata": {},
   "outputs": [],
   "source": [
    "# loop over references - fit and plot data of one set per folder\n",
    "#for time_lists, ref_lists, fit_lists in zip(ref_time_sets, ref_sets, ref_fit_sets):\n",
    "    #for time, ref, fitted in zip(time_lists, ref_lists, fit_lists):\n",
    "\n",
    "        #plt.plot_T1_fit(time, ref, fitted[0])"
   ]
  },
  {
   "cell_type": "code",
   "execution_count": null,
   "metadata": {},
   "outputs": [],
   "source": [
    "# define HDAWG outputs\n",
    "basic_HDAWG_params = {606: 1,\n",
    "                      'cp': 3,\n",
    "                      'sp': 4,\n",
    "                      'trig_in': 0,\n",
    "                      'trig_out': 0,\n",
    "                      'trig_read': 1,\n",
    "                      'sequence_delay': 1E-3}\n",
    "\n",
    "# Pit Pulse Parameters\n",
    "pit_params = {'no_pulses': 280,\n",
    "              'f_0': 250E6,\n",
    "              'amplitude': 0.12,\n",
    "              'freq_sweep': 3.5E6,\n",
    "              'duration': 30E-6,\n",
    "              'delay': 250E-6}\n",
    "\n",
    "# Burn Back Parameters\n",
    "burn_back_params = {'no_pulses': 100,\n",
    "                    'f_0': 268.45E6,\n",
    "                    'amplitude': 0.0395,\n",
    "                    'freq_sweep': 1E6,\n",
    "                    'duration': 48E-6,\n",
    "                    'delay': 250E-6}\n",
    "\n",
    "# AFC Pulse Params\n",
    "AFC_params = {'no_pulses': 100, \n",
    "              'tau': 1E-6,\n",
    "              'f_0': 268.45E6,\n",
    "              'amplitude': 0.0395,\n",
    "              'duration': 48E-6,\n",
    "              'delay': 250E-6}\n",
    "\n",
    "delta = 1/AFC_params['tau']\n",
    "no_teeth = round((4*burn_back_params['freq_sweep'])/delta) + 2\n",
    "no_holes = no_teeth - 1\n",
    "\n",
    "AFC_params['delta'] = delta\n",
    "AFC_params['no_teeth'] = no_teeth\n",
    "AFC_params['no_holes'] = no_holes\n",
    "\n",
    "# Control Pulse Params\n",
    "cp_in_params = {'f_0': 250E6,\n",
    "                'amplitude': 0.21,\n",
    "                'duration': 0.6E-6}\n",
    "\n",
    "cp_out_params = {'f_0': 250E6,\n",
    "                 'amplitude': 0.21,\n",
    "                 'duration': 0.6E-6,\n",
    "                 'width': 0.3E-6}\n",
    "\n",
    "# Signal Pulse Params\n",
    "sp_params = {'f_0': 80E6,\n",
    "             'amplitude': 0.21,\n",
    "             'duration': 0.6E-6,\n",
    "             'width': 0.3E-6}\n",
    "\n",
    "# Heterodyne Pulse Params\n",
    "hdyne_params = {'f_0': 80E6,\n",
    "                'amplitude': 0.21,\n",
    "                'duration': 0.6E-6,}\n",
    "\n",
    "# Reading Pulse Params\n",
    "read_params = {'f_0': 250E6,\n",
    "              'amplitude': 0.015,\n",
    "              'freq_sweep': 2E6,\n",
    "              'duration': 30E-6}\n",
    "\n",
    "# Shuffle Pulse Params\n",
    "shuffle_params = {'f_0': 250E6,\n",
    "                  'amplitude': 0.25,\n",
    "                  'freq_sweep': 10.5E6,\n",
    "                  'duration': 1000E-6}\n",
    "\n",
    "# compile parameter dictionary\n",
    "param_dictionary = {'HDAWG': basic_HDAWG_params,\n",
    "                    'pit': pit_params,\n",
    "                    'burn_back': burn_back_params,\n",
    "                    'AFC': AFC_params,\n",
    "                    'cp_in': cp_in_params,\n",
    "                    'cp_out': cp_out_params,\n",
    "                    'sp': sp_params,\n",
    "                    'hdyne': hdyne_params,\n",
    "                    'read': read_params,\n",
    "                    'shuffle': shuffle_params,\n",
    "                    'dict_one' : dict_1,\n",
    "                    'dict_two': dict_2}"
   ]
  },
  {
   "cell_type": "code",
   "execution_count": null,
   "metadata": {},
   "outputs": [],
   "source": [
    "def read_HDAWG_file(file_name, dictionary):\n",
    "\n",
    "    with open(file_name, 'r') as file:\n",
    "        awg_string = file.read()\n",
    "        awg_programme = awg_string.format(**dictionary)\n",
    "        \n",
    "    return awg_programme"
   ]
  },
  {
   "cell_type": "code",
   "execution_count": null,
   "metadata": {},
   "outputs": [],
   "source": [
    "read_HDAWG_file('example.txt', param_dictionary)"
   ]
  },
  {
   "cell_type": "code",
   "execution_count": null,
   "metadata": {},
   "outputs": [],
   "source": [
    "# Dict 1\n",
    "dict_1 = {'channel_1': 'on',\n",
    "          'amplitude': 10}\n",
    "\n",
    "# Dict 2\n",
    "dict_2 = {'channel_2': 'on',\n",
    "          'amplitude': 5}\n",
    "# nested dict\n",
    "nested_dict = {'dict_one' : dict_1,\n",
    "               'dict_two': dict_2}\n",
    "\n",
    "def read_file(file_name, dictionary):\n",
    "\n",
    "    with open(file_name, 'r') as file:\n",
    "        string = file.read()\n",
    "        programme = string.format(**dictionary)\n",
    "       \n",
    "    return programme\n",
    "\n",
    "read_file('example.txt', nested_dict)\n"
   ]
  }
 ],
 "metadata": {
  "kernelspec": {
   "display_name": ".lifetime_venv",
   "language": "python",
   "name": "python3"
  },
  "language_info": {
   "codemirror_mode": {
    "name": "ipython",
    "version": 3
   },
   "file_extension": ".py",
   "mimetype": "text/x-python",
   "name": "python",
   "nbconvert_exporter": "python",
   "pygments_lexer": "ipython3",
   "version": "3.11.1"
  }
 },
 "nbformat": 4,
 "nbformat_minor": 2
}
