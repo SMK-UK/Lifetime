{
 "cells": [
  {
   "attachments": {},
   "cell_type": "markdown",
   "metadata": {},
   "source": [
    "\n",
    "### T2 Data Analysis  \n",
    "\n",
    "        Sean Keenan, PhD Physics  \n",
    "        Quantum Memories Group, Heriot-Watt University, Edinburgh  \n",
    "        2021  "
   ]
  },
  {
   "cell_type": "code",
   "execution_count": 6,
   "metadata": {},
   "outputs": [],
   "source": [
    "%matplotlib widget\n",
    "import os\n",
    "import data_functions as sf\n",
    "import fitting_functions as ff\n",
    "import filter_functions as fil\n",
    "import numpy as np\n",
    "import matplotlib.pyplot as mp\n",
    "from scipy.signal import fftconvolve\n",
    "mp.style.use('signature.mplstyle')\n",
    "from filter_functions import smooth_data, moving_av\n",
    "\n",
    "path = r\"C:\\Users\\keena\\Downloads\\2023_PrYSO\\1406_T2_35\\pi_0\\T2_0\""
   ]
  },
  {
   "attachments": {},
   "cell_type": "markdown",
   "metadata": {},
   "source": [
    "\n",
    "##### Import Data  \n",
    "\n",
    "        Load data sets & extract time and echo data\n"
   ]
  },
  {
   "cell_type": "markdown",
   "metadata": {},
   "source": [
    "\n",
    "##### Check channel assignment  \n",
    "\n",
    "        Plot one of each channel to check assignment is correct for calculations\n"
   ]
  },
  {
   "cell_type": "code",
   "execution_count": null,
   "metadata": {},
   "outputs": [],
   "source": [
    "fig, ax = mp.subplots(nrows=3, ncols=1, sharex='all')\n",
    "fig.supxlabel('Time (s)')\n",
    "fig.supylabel('Voltage (V)')\n",
    "\n",
    "ax[0].set_title('Trigger')\n",
    "ax[0].plot(time_lists[0], trigger_lists[0])\n",
    "ax[1].set_title('Reference')\n",
    "ax[1].plot(time_lists[0], reference_lists[0])\n",
    "ax[2].set_title('Transmitted')\n",
    "ax[2].plot(time_lists[0], transmitted_lists[0])"
   ]
  },
  {
   "cell_type": "code",
   "execution_count": null,
   "metadata": {},
   "outputs": [],
   "source": [
    "# find the trigger indexes\n",
    "start_index = [sf.find_trigger(trigger_list, modifier=0.9, edge='rise') for trigger_list in trigger_lists]\n",
    "stop_index = [sf.find_trigger(trigger_list, modifier=0.9, edge='fall') for trigger_list in trigger_lists]\n",
    "# trim the data to focus on the echo\n",
    "time_cut_lists = [time_list[start:stop] for time_list, start, stop in zip(time_lists, start_index, stop_index)]\n",
    "ref_time_lists = [time_list[start:stop] for time_list, start, stop in zip(time_lists, start_index, stop_index)]\n",
    "trans_cut_lists = [trans_list[start:stop] for trans_list, start, stop in zip(transmitted_lists, start_index, stop_index)]\n",
    "ref_cut_lists = [ref_list[start:stop] for ref_list, start, stop in zip(reference_lists, start_index, stop_index)]\n",
    "smooth_cut_lists = [smooth_list[start:stop] for smooth_list, start, stop in zip(trans_smoothed, start_index, stop_index)]"
   ]
  },
  {
   "cell_type": "code",
   "execution_count": null,
   "metadata": {},
   "outputs": [],
   "source": [
    "straight_fit = [ff.fit_straight(time, smooth_cut_lists[idx]) for idx, time in enumerate(time_cut_lists)]\n",
    "\n",
    "# loop over references - fit and plot data\n",
    "for idx, time in enumerate(time_cut_lists):\n",
    "    \n",
    "    fig, ax = mp.subplots()\n",
    "    ax.set_title('Expected Echo Position')\n",
    "    ax.plot(time, smooth_cut_lists[idx], color='blue', alpha=0.5, label='Exp. Data')\n",
    "    ax.plot(time, ff.straight(np.array(time), *straight_fit[idx][0]), color='orange', linestyle='--', alpha=1, label='Fit')\n",
    "    ax.ticklabel_format(axis='both', style='sci', scilimits=(0,0), useMathText = True)\n",
    "    ax.set(xlabel='Time (s)', ylabel='Voltage (V)')\n",
    "    ax.legend()"
   ]
  },
  {
   "cell_type": "code",
   "execution_count": null,
   "metadata": {},
   "outputs": [],
   "source": [
    "gaussian_fit = ff.fit_gauss(time_cut_lists[-1], trans_cut_lists[-1], params=(np.max(trans_cut_lists[-1]), 0, 0.5E-5, 0.1E-5))"
   ]
  },
  {
   "cell_type": "code",
   "execution_count": null,
   "metadata": {},
   "outputs": [],
   "source": [
    "fig, ax = mp.subplots()\n",
    "\n",
    "ax.set_title('Fluorescence Fit')\n",
    "ax.plot(time_cut_lists[-1], trans_cut_lists[-1], color='blue', alpha=0.5, label='Exp. Data')\n",
    "ax.plot(time_cut_lists[-1], ff.gaussian(np.array(time_cut_lists[-1]), *gaussian_fit[0]), color='orange', linestyle='--', alpha=1, label='Fit')\n",
    "ax.ticklabel_format(axis='both', style='sci', scilimits=(0,0), useMathText = True)\n",
    "ax.legend()"
   ]
  },
  {
   "cell_type": "code",
   "execution_count": null,
   "metadata": {},
   "outputs": [],
   "source": [
    "from scipy.integrate import trapz, cumtrapz"
   ]
  },
  {
   "cell_type": "code",
   "execution_count": null,
   "metadata": {},
   "outputs": [],
   "source": [
    "area = trapz(trans_cut_lists[-1], time_cut_lists[-1])"
   ]
  },
  {
   "cell_type": "code",
   "execution_count": null,
   "metadata": {},
   "outputs": [],
   "source": [
    "area"
   ]
  },
  {
   "cell_type": "code",
   "execution_count": null,
   "metadata": {},
   "outputs": [],
   "source": [
    "corrected_zip = zipped_data = zip(time_cut_lists[-2:], trans_cut_lists[-2:])\n",
    "gaussian_fit = [ff.fit_gauss(time, trans) for time, trans in zipped_data]\n",
    "# loop over references - fit and plot data\n",
    "for idx, time in enumerate(time_cut_lists):\n",
    "    # zip data together for list comprehension\n",
    "\n",
    "    fig, ax = mp.subplots()\n",
    "    \n",
    "    ax.set_title('Fluorescence Fit')\n",
    "    ax.plot(time, trans_cut_lists[idx], color='blue', alpha=0.5, label='Exp. Data')\n",
    "    ax.plot(time, ff.gaussian(np.array(time), *gaussian_fit[idx][0]), color='orange', linestyle='--', alpha=1, label='Fit')\n",
    "    ax.ticklabel_format(axis='both', style='sci', scilimits=(0,0), useMathText = True)\n",
    "    ax.legend()\n"
   ]
  },
  {
   "cell_type": "code",
   "execution_count": null,
   "metadata": {},
   "outputs": [],
   "source": [
    "fit, fit_err = ff.fit_straight(cut_10M_x, cut_10M_0)\n",
    "straight = ff.straight(cut_10M_x, *fit)\n",
    "mp.figure()\n",
    "mp.plot(cut_10M_x, cut_10M_0)\n",
    "mp.plot(cut_10M_x, straight)\n",
    "\n",
    "fixed = np.asarray(cut_10M_0) - np.asarray(straight)\n",
    "\n",
    "mp.figure()\n",
    "mp.plot(fixed)"
   ]
  },
  {
   "cell_type": "code",
   "execution_count": null,
   "metadata": {},
   "outputs": [],
   "source": [
    "T = cut_10M_x[1]-cut_10M_x[0] # time interval\n",
    "sr = 1/T # sampling rate\n",
    "N = np.size(cut_10M_x)\n",
    "M = 101\n",
    "freq = sf.fftfreq(N, T)\n",
    "\n",
    "print(T, sr, N)"
   ]
  },
  {
   "cell_type": "code",
   "execution_count": null,
   "metadata": {},
   "outputs": [],
   "source": [
    "low_pass = 50E6\n",
    "trans_band = 25E5\n",
    "b = trans_band/sr\n",
    "lfc = low_pass/sr\n",
    "lM = int(np.ceil((4/b)))\n",
    "lpf = fil.low_pass(lM, lfc)\n",
    "nlp = len(lpf) // 2\n",
    "ma = fil.moving_av(M)\n",
    "nma = len(ma)//2\n",
    "filtered = fftconvolve(lpf, fixed)\n",
    "smoothed = fftconvolve(ma, fixed)\n",
    "\n",
    "fftd = np.sqrt(np.abs(sf.fft(filtered)))\n",
    "ffts = np.sqrt(np.abs(sf.fft(smoothed)))"
   ]
  },
  {
   "cell_type": "code",
   "execution_count": null,
   "metadata": {},
   "outputs": [],
   "source": [
    "# filtered data\n",
    "mp.figure()\n",
    "mp.title('Low-Pass')\n",
    "mp.xlabel('time (s)')\n",
    "mp.ylabel('Intesity AU')\n",
    "mp.plot(cut_10M_x, filtered[nlp:-nlp])\n",
    "\n",
    "mp.figure()\n",
    "mp.title('FFT of Low-Pass')\n",
    "mp.xlabel('freq (Hz)')\n",
    "mp.ylabel('Intensity AU')\n",
    "mp.plot(freq[0:500], fftd[0:500])\n",
    "\n",
    "# smoothed data\n",
    "mp.figure()\n",
    "mp.title('Smoothed')\n",
    "mp.xlabel('time (s)')\n",
    "mp.ylabel('Intesity AU')\n",
    "mp.plot(cut_10M_x, smoothed[nma:-nma])\n",
    "\n",
    "mp.figure()\n",
    "mp.title('FFT of Smoothed')\n",
    "mp.xlabel('freq (Hz)')\n",
    "mp.ylabel('Intensity AU')\n",
    "mp.plot(freq[0:500], ffts[0:500])\n",
    "\n",
    "mp.figure()\n",
    "mp.title('Fixed')\n",
    "mp.xlabel('time (s)')\n",
    "mp.ylabel('Intesity AU')\n",
    "mp.plot(cut_10M_x, fixed)\n",
    "\n",
    "mp.figure()\n",
    "mp.title('FFT Combined')\n",
    "mp.xlabel('freq (Hz)')\n",
    "mp.ylabel('Intensity AU')\n",
    "mp.plot(freq[0:100], np.sqrt(np.abs(sf.fft(fixed)))[0:100], label='FFT fixed')\n",
    "mp.plot(freq[0:100], fftd[0:100], label='FFT filtered')\n",
    "mp.plot(freq[0:100], ffts[0:100], label='FFT smoothed and filtered')\n",
    "mp.legend(loc='best')"
   ]
  }
 ],
 "metadata": {
  "kernelspec": {
   "display_name": ".spect_venv",
   "language": "python",
   "name": "python3"
  },
  "language_info": {
   "codemirror_mode": {
    "name": "ipython",
    "version": 3
   },
   "file_extension": ".py",
   "mimetype": "text/x-python",
   "name": "python",
   "nbconvert_exporter": "python",
   "pygments_lexer": "ipython3",
   "version": "3.11.1"
  },
  "orig_nbformat": 4
 },
 "nbformat": 4,
 "nbformat_minor": 2
}
