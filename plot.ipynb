{
 "cells": [
  {
   "cell_type": "code",
   "execution_count": null,
   "metadata": {},
   "outputs": [],
   "source": [
    "from functions.data_functions import read_json\n",
    "from functions.plotting_functions import plot_scan\n",
    "import plot_config_file\n",
    "import matplotlib.pyplot as mp\n",
    "\n",
    "import os"
   ]
  },
  {
   "cell_type": "code",
   "execution_count": null,
   "metadata": {},
   "outputs": [],
   "source": [
    "config = plot_config_file.config_params\n",
    "\n",
    "fit_data = read_json(os.path.join(config['root'], config['file']))\n",
    "for key in fit_data:\n",
    "    if fit_data[key]['T1'] > 1E-4:\n",
    "        pop_key = key\n",
    "# remove erroneous fit data\n",
    "fit_data.pop(pop_key)"
   ]
  },
  {
   "cell_type": "code",
   "execution_count": null,
   "metadata": {},
   "outputs": [],
   "source": [
    "# plot the fit T1 times\n",
    "fig, ax = plot_scan(fit_data, 'T1', 'dT1', 5)\n",
    "\n",
    "ax.set(title='T1 Fit Data for Pr:YVO 0.5%')\n",
    "ax.set(xlabel='Pulse Duration Time (s)', ylabel='Relaxation Time (s)')"
   ]
  }
 ],
 "metadata": {
  "kernelspec": {
   "display_name": ".lifetime_venv",
   "language": "python",
   "name": "python3"
  },
  "language_info": {
   "codemirror_mode": {
    "name": "ipython",
    "version": 3
   },
   "file_extension": ".py",
   "mimetype": "text/x-python",
   "name": "python",
   "nbconvert_exporter": "python",
   "pygments_lexer": "ipython3",
   "version": "3.11.1"
  }
 },
 "nbformat": 4,
 "nbformat_minor": 2
}
