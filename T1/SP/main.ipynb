{
 "cells": [
  {
   "cell_type": "code",
   "execution_count": null,
   "metadata": {},
   "outputs": [],
   "source": [
    "import sys\n",
    "# Add the parent directory to the system path\n",
    "sys.path.insert(1, r\"C:\\Users\\keena\\Documents\\University\\python_scripts\")\n",
    "\n",
    "from Function_files.addresses import Init_Directories\n",
    "import Function_files.data_functions as dat\n",
    "from Function_files.fitting_functions import fit_exp_decay, exp_decay\n",
    "from Function_files.plotting_class import Plotter\n",
    "\n",
    "plt = Plotter()\n",
    "dirs = Init_Directories()\n",
    "\n",
    "dirs.current = dirs.join(dirs.code, \"Lifetime\\T1\\SP\")\n",
    "json = dirs.join(dirs.current, \"configs\", \"08_SP.json\")\n",
    "info = dat.read_json(json)"
   ]
  },
  {
   "cell_type": "code",
   "execution_count": null,
   "metadata": {},
   "outputs": [],
   "source": [
    "# path to folders containing T1 data\n",
    "path = dirs.join(dirs.base, r\"desktop\\single_photon\")\n",
    "folder_list, file_list = dat.dir_interrogate(path, extensions=info['extensions'], exceptions=info['exceptions'])\n",
    "phu_paths = dat.search_paths(folder_list, file_list, include=['.phu'])\n",
    "phu_path_list = [[dirs.join(path, x) for x in phu_path] for phu_path in phu_paths]\n",
    "dat_paths = dat.search_paths(folder_list, file_list, include=['.dat'])\n",
    "dat_path_list = [dirs.join(path, x) for x in dat_paths]\n",
    "ptu_paths = dat.search_paths(folder_list, file_list, include=['.ptu'])\n",
    "ptu_path_list = [dirs.join(path, x) for x in ptu_paths]"
   ]
  },
  {
   "cell_type": "code",
   "execution_count": null,
   "metadata": {},
   "outputs": [],
   "source": [
    "# TODO add function to extract data from .dat files including the metadata (length, bin width etc.)\n",
    "dat_data = [dat.read_file(x) for x in dat_path_list]\n",
    "dat_ttd = [x[1][0] for x in dat_data]"
   ]
  },
  {
   "cell_type": "code",
   "execution_count": null,
   "metadata": {},
   "outputs": [],
   "source": [
    "import matplotlib.pyplot as mp\n",
    "import numpy as np\n",
    "first = 950\n",
    "last = 65433\n",
    "fig, ax = mp.subplots()\n",
    "ax.plot(dat_ttd[0][4:])\n",
    "fig, ax = mp.subplots()\n",
    "ax.plot(dat_ttd[0][first:last])"
   ]
  },
  {
   "cell_type": "code",
   "execution_count": null,
   "metadata": {},
   "outputs": [],
   "source": [
    "import matplotlib.pyplot as mp\n",
    "import numpy as np\n",
    "fig, ax = mp.subplots()\n",
    "ax.plot(dat_ttd[1][4:])\n",
    "fig, ax = mp.subplots()\n",
    "ax.plot(dat_ttd[1][first:last])"
   ]
  },
  {
   "cell_type": "code",
   "execution_count": null,
   "metadata": {},
   "outputs": [],
   "source": [
    "stitched = dat_ttd[0][first:last]\n",
    "[stitched.extend(dat_ttd[x][first:last]) for x in range(1, len(dat_ttd))]\n",
    "dt = 512E-12\n",
    "time = [dt*1E6*x for x in range(len(stitched))]"
   ]
  },
  {
   "cell_type": "code",
   "execution_count": null,
   "metadata": {},
   "outputs": [],
   "source": [
    "# TODO add functionality to autodetect edges between stitches and smooth together\n",
    "\n",
    "fig, ax = mp.subplots()\n",
    "ax.plot(time, stitched)\n",
    "ax.set(xlabel=('Time ($\\\\mu$s)'),  ylabel=('Counts'))\n",
    "ax.set(title=('PrYSO Bulk Fluorescence (SP)'))"
   ]
  },
  {
   "cell_type": "code",
   "execution_count": null,
   "metadata": {},
   "outputs": [],
   "source": [
    "try_fit = fit_exp_decay(time, stitched)\n",
    "fig, ax = mp.subplots()\n",
    "ax.plot(time, stitched)\n",
    "ax.set(xlabel=('Time ($\\\\mu$s)'),  ylabel=('$\\log_1$$_0$ Counts'))\n",
    "ax.set_yscale('log')\n",
    "#ax.set(title=('PrYSO Bulk Fluorescence (SP)'))\n",
    "ax.plot(time, exp_decay(np.array(time), *try_fit[0]))\n",
    "fig.savefig(fname=dirs.join(dirs.current, 'stitched.svg'), format='svg', bbox_inches='tight')"
   ]
  },
  {
   "cell_type": "code",
   "execution_count": null,
   "metadata": {},
   "outputs": [],
   "source": [
    "# path to folders containing T1 data\n",
    "path = dirs.join(dirs.base, r\"Desktop\\SP\\0208\\606_BP\")\n",
    "folder_list, file_list = dat.dir_interrogate(path, extensions=info['extensions'], exceptions=info['exceptions'])\n",
    "phu_paths = dat.search_paths(folder_list, file_list, include=['.phu'])\n",
    "phu_path_list = [[dirs.join(path, x) for x in phu_path] for phu_path in phu_paths]\n",
    "\n",
    "dat_paths = dat.search_paths(folder_list, file_list, include=['.dat'])\n",
    "dat_path_list = [[dirs.join(path, x) for x in dat_path] for dat_path in dat_paths]\n",
    "\n",
    "ptu_paths = dat.search_paths(folder_list, file_list, include=['.ptu'])\n",
    "ptu_path_list = [[dirs.join(path, x) for x in ptu_path] for ptu_path in ptu_paths]\n",
    "\n",
    "dt = 4.096E-3\n",
    "dat_data = [[dat.read_file(x) for x in dat_path] for dat_path in dat_path_list]\n",
    "dat_ttd = [[x[1][0] for x in data] for data in dat_data]\n",
    "time = [[dt * np.arange(len(x)) for x in data] for data in dat_ttd]"
   ]
  },
  {
   "cell_type": "code",
   "execution_count": null,
   "metadata": {},
   "outputs": [],
   "source": [
    "a, b = plt.zoom(time[0][0], (0, 2.5))\n",
    "m = 6 # power\n",
    "n = 0 # polarisation\n",
    "fig, ax = mp.subplots()\n",
    "ax.plot(time[m][n][b:], dat_ttd[m][n][b:])\n",
    "ax.set_yscale('log')\n",
    "ax.set(xlabel=('Time ($\\\\mu$s)'), ylabel=('Counts'))\n",
    "ax.set(title=('PrYSO Bulk Fluorescence (SP)'))"
   ]
  },
  {
   "cell_type": "code",
   "execution_count": null,
   "metadata": {},
   "outputs": [],
   "source": [
    "a, b = plt.zoom(time[0][0], (60, 200))\n",
    "fig, ax = mp.subplots()\n",
    "ax.plot(time[m][n][a:b], dat_ttd[m][n][a:b])\n",
    "ax.set(xlabel=('Time ($\\\\mu$s)'), ylabel=('Counts'))\n",
    "ax.set(title=('PrYSO Bulk Fluorescence (SP)'))"
   ]
  },
  {
   "cell_type": "code",
   "execution_count": null,
   "metadata": {},
   "outputs": [],
   "source": [
    "guess = [np.max(dat_ttd[m][n][a:b]), 160, np.min(dat_ttd[m][n][a:b])]\n",
    "try_fit = fit_exp_decay(time[m][n][a:b], dat_ttd[m][n][a:b], params=guess)\n",
    "try_fit[0][1], try_fit[1][1]"
   ]
  },
  {
   "cell_type": "code",
   "execution_count": null,
   "metadata": {},
   "outputs": [],
   "source": [
    "fig, ax = mp.subplots()\n",
    "time_plot = dt * np.arange(len(time[m][n][a:b]))\n",
    "ax.plot(time_plot, dat_ttd[m][n][a:b], label='Exp. Data')\n",
    "ax.plot(time_plot, exp_decay(np.array(time[m][n][a:b]), *try_fit[0]), label='Fit')\n",
    "ax.set(xlabel=('Time ($\\\\mu$s)'),  ylabel=('$\\log_1$$_0$ Counts'))\n",
    "ax.set_yscale('log')\n",
    "yticks = [200, 300, 400, 500]\n",
    "ax.legend(loc='lower left')\n",
    "ax.set_yticks(yticks)\n",
    "ax.set_yticklabels([str(y) for y in yticks])\n",
    "fig.savefig(fname=dirs.join(dirs.current, 'high_T1_BP_FAV.svg'), format='svg', bbox_inches='tight')"
   ]
  }
 ],
 "metadata": {
  "kernelspec": {
   "display_name": ".lifetime_venv",
   "language": "python",
   "name": "python3"
  },
  "language_info": {
   "codemirror_mode": {
    "name": "ipython",
    "version": 3
   },
   "file_extension": ".py",
   "mimetype": "text/x-python",
   "name": "python",
   "nbconvert_exporter": "python",
   "pygments_lexer": "ipython3",
   "version": "3.11.1"
  }
 },
 "nbformat": 4,
 "nbformat_minor": 2
}
