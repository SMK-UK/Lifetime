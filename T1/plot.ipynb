{
 "cells": [
  {
   "cell_type": "markdown",
   "metadata": {},
   "source": [
    "\n",
    "### T1 Data Plotting  \n",
    "\n",
    "        Sean Keenan, PhD Physics  \n",
    "        Quantum Memories Group, Heriot-Watt University, Edinburgh  \n",
    "        2025  "
   ]
  },
  {
   "cell_type": "code",
   "execution_count": 3,
   "metadata": {},
   "outputs": [],
   "source": [
    "import sys\n",
    "# Add the parent directory to the system path\n",
    "sys.path.insert(1, r\"C:\\Users\\keena\\Documents\\University\\python_scripts\")\n",
    "\n",
    "from Function_files.data_functions import read_json\n",
    "from Function_files.plotting_class import Plotter\n",
    "from Function_files.addresses import Init_Directories\n",
    "\n",
    "dirs = Init_Directories()\n",
    "plt = Plotter()\n",
    "\n",
    "# set plot save location and format\n",
    "plt.format = 'svg'\n",
    "plt.dir = dirs.code\n",
    "plt.folder = \"Lifetime/T1/fit_data/PrYVO_05pc/\""
   ]
  },
  {
   "cell_type": "markdown",
   "metadata": {},
   "source": [
    "##### Plot the T1 data "
   ]
  },
  {
   "cell_type": "code",
   "execution_count": null,
   "metadata": {},
   "outputs": [],
   "source": [
    "data = plt.folder + \"0329_Fluor_duration_fit.json\"\n",
    "fit_data = read_json(dirs.code + data)\n",
    "plt.fname = \"T1\"\n",
    "# plot the T1 times from the fitted data\n",
    "plt.scale_x = 1E3\n",
    "plt.scale_y = 1E6\n",
    "plt.x_label = f'Pulse Duration ({plt.scale(\"x\")}s)'\n",
    "plt.y_label = f'T$_{1}$ Time ({plt.scale(\"y\")}s)'\n",
    "fig, ax = plt.plot_scan(fit_data, y_key='T1', yerr_key='dT1')\n",
    "plt.save_fig(figure=fig)\n",
    "\n",
    "# plot the relaxation area from the fitted data\n",
    "plt.fname = \"Area\"\n",
    "plt.x_label = f'Pulse Duration ({plt.scale(\"x\")}s)'\n",
    "plt.y_label = f'Relaxation Area (V$\\cdot${plt.scale(\"y\")}s)'\n",
    "fig, ax = plt.plot_scan(fit_data, y_key='A', yerr_key='dA')\n",
    "plt.save_fig(figure=fig)"
   ]
  }
 ],
 "metadata": {
  "kernelspec": {
   "display_name": ".lifetime_venv",
   "language": "python",
   "name": "python3"
  },
  "language_info": {
   "codemirror_mode": {
    "name": "ipython",
    "version": 3
   },
   "file_extension": ".py",
   "mimetype": "text/x-python",
   "name": "python",
   "nbconvert_exporter": "python",
   "pygments_lexer": "ipython3",
   "version": "3.11.1"
  }
 },
 "nbformat": 4,
 "nbformat_minor": 2
}
